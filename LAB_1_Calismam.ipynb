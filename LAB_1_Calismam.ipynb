{
 "cells": [
  {
   "cell_type": "markdown",
   "id": "d4796b53",
   "metadata": {},
   "source": [
    "KÜTÜPHANELERİ AL"
   ]
  },
  {
   "cell_type": "code",
   "execution_count": 1,
   "id": "e4a827b1",
   "metadata": {},
   "outputs": [],
   "source": [
    "import numpy as np\n",
    "import pandas as pd\n",
    "import matplotlib.pyplot as plt"
   ]
  },
  {
   "cell_type": "markdown",
   "id": "6afc7c8b",
   "metadata": {},
   "source": [
    "DATASET İ DEĞİŞKENE AL"
   ]
  },
  {
   "cell_type": "code",
   "execution_count": 2,
   "id": "ff522cb1",
   "metadata": {},
   "outputs": [],
   "source": [
    "dataset = pd.read_csv(\"Data.csv\")"
   ]
  },
  {
   "cell_type": "markdown",
   "id": "b0ec6f80",
   "metadata": {},
   "source": [
    "DATA SET İ GÖRÜNTÜLE"
   ]
  },
  {
   "cell_type": "code",
   "execution_count": 3,
   "id": "02a238a4",
   "metadata": {},
   "outputs": [
    {
     "data": {
      "text/html": [
       "<div>\n",
       "<style scoped>\n",
       "    .dataframe tbody tr th:only-of-type {\n",
       "        vertical-align: middle;\n",
       "    }\n",
       "\n",
       "    .dataframe tbody tr th {\n",
       "        vertical-align: top;\n",
       "    }\n",
       "\n",
       "    .dataframe thead th {\n",
       "        text-align: right;\n",
       "    }\n",
       "</style>\n",
       "<table border=\"1\" class=\"dataframe\">\n",
       "  <thead>\n",
       "    <tr style=\"text-align: right;\">\n",
       "      <th></th>\n",
       "      <th>Country</th>\n",
       "      <th>Age</th>\n",
       "      <th>Salary</th>\n",
       "      <th>Purchased</th>\n",
       "    </tr>\n",
       "  </thead>\n",
       "  <tbody>\n",
       "    <tr>\n",
       "      <th>0</th>\n",
       "      <td>France</td>\n",
       "      <td>44.0</td>\n",
       "      <td>72000.0</td>\n",
       "      <td>No</td>\n",
       "    </tr>\n",
       "    <tr>\n",
       "      <th>1</th>\n",
       "      <td>Spain</td>\n",
       "      <td>27.0</td>\n",
       "      <td>48000.0</td>\n",
       "      <td>Yes</td>\n",
       "    </tr>\n",
       "    <tr>\n",
       "      <th>2</th>\n",
       "      <td>Germany</td>\n",
       "      <td>30.0</td>\n",
       "      <td>54000.0</td>\n",
       "      <td>No</td>\n",
       "    </tr>\n",
       "    <tr>\n",
       "      <th>3</th>\n",
       "      <td>Spain</td>\n",
       "      <td>38.0</td>\n",
       "      <td>61000.0</td>\n",
       "      <td>No</td>\n",
       "    </tr>\n",
       "    <tr>\n",
       "      <th>4</th>\n",
       "      <td>Germany</td>\n",
       "      <td>40.0</td>\n",
       "      <td>NaN</td>\n",
       "      <td>Yes</td>\n",
       "    </tr>\n",
       "    <tr>\n",
       "      <th>5</th>\n",
       "      <td>France</td>\n",
       "      <td>35.0</td>\n",
       "      <td>58000.0</td>\n",
       "      <td>Yes</td>\n",
       "    </tr>\n",
       "    <tr>\n",
       "      <th>6</th>\n",
       "      <td>Spain</td>\n",
       "      <td>NaN</td>\n",
       "      <td>52000.0</td>\n",
       "      <td>No</td>\n",
       "    </tr>\n",
       "    <tr>\n",
       "      <th>7</th>\n",
       "      <td>France</td>\n",
       "      <td>48.0</td>\n",
       "      <td>79000.0</td>\n",
       "      <td>Yes</td>\n",
       "    </tr>\n",
       "    <tr>\n",
       "      <th>8</th>\n",
       "      <td>Germany</td>\n",
       "      <td>50.0</td>\n",
       "      <td>83000.0</td>\n",
       "      <td>No</td>\n",
       "    </tr>\n",
       "    <tr>\n",
       "      <th>9</th>\n",
       "      <td>France</td>\n",
       "      <td>37.0</td>\n",
       "      <td>67000.0</td>\n",
       "      <td>Yes</td>\n",
       "    </tr>\n",
       "  </tbody>\n",
       "</table>\n",
       "</div>"
      ],
      "text/plain": [
       "   Country   Age   Salary Purchased\n",
       "0   France  44.0  72000.0        No\n",
       "1    Spain  27.0  48000.0       Yes\n",
       "2  Germany  30.0  54000.0        No\n",
       "3    Spain  38.0  61000.0        No\n",
       "4  Germany  40.0      NaN       Yes\n",
       "5   France  35.0  58000.0       Yes\n",
       "6    Spain   NaN  52000.0        No\n",
       "7   France  48.0  79000.0       Yes\n",
       "8  Germany  50.0  83000.0        No\n",
       "9   France  37.0  67000.0       Yes"
      ]
     },
     "execution_count": 3,
     "metadata": {},
     "output_type": "execute_result"
    }
   ],
   "source": [
    "dataset"
   ]
  },
  {
   "cell_type": "markdown",
   "id": "264a6ca2",
   "metadata": {},
   "source": [
    "BURADA DATASET İÇERİSİNDEKİ VALUE LERİ BAĞIMLI (y) VE BAĞIMSIZ DEĞİŞKEN (X) İMİZE ATADIK\n",
    "İLOC VERİLERİ SEİÇYOR YANİ VERİNİN LOKASYONUNA GÖRE SEÇİYORUZ \n",
    "SEÇTİĞİMİZ VERİLERİ VALUES İLE VALUE OLARAK X VEYA Y İÇERİSİNE ALIYORUZ\n",
    "[,] VİRGÜLÜN SOLU SATIRLAR, VİRGÜLÜN SAĞI SÜTUNLAR DEMEK OLUYOR. ' : ' İBARESİNİN SOLU BAŞLANGICI SAĞI BİTİŞİ(HARİÇ) İFADE EDER"
   ]
  },
  {
   "cell_type": "code",
   "execution_count": 5,
   "id": "8b171d15",
   "metadata": {},
   "outputs": [],
   "source": [
    "X = dataset.iloc[:, :-1].values\n",
    "y = dataset.iloc[:, -1].values"
   ]
  },
  {
   "cell_type": "code",
   "execution_count": 6,
   "id": "e0013a3c",
   "metadata": {},
   "outputs": [
    {
     "name": "stdout",
     "output_type": "stream",
     "text": [
      "[['France' 44.0 72000.0]\n",
      " ['Spain' 27.0 48000.0]\n",
      " ['Germany' 30.0 54000.0]\n",
      " ['Spain' 38.0 61000.0]\n",
      " ['Germany' 40.0 nan]\n",
      " ['France' 35.0 58000.0]\n",
      " ['Spain' nan 52000.0]\n",
      " ['France' 48.0 79000.0]\n",
      " ['Germany' 50.0 83000.0]\n",
      " ['France' 37.0 67000.0]]\n"
     ]
    }
   ],
   "source": [
    "print(X)"
   ]
  },
  {
   "cell_type": "code",
   "execution_count": 7,
   "id": "e30ba816",
   "metadata": {},
   "outputs": [
    {
     "name": "stdout",
     "output_type": "stream",
     "text": [
      "['No' 'Yes' 'No' 'No' 'Yes' 'Yes' 'No' 'Yes' 'No' 'Yes']\n"
     ]
    }
   ],
   "source": [
    "print(y)"
   ]
  },
  {
   "cell_type": "code",
   "execution_count": 9,
   "id": "c064e3e5",
   "metadata": {},
   "outputs": [],
   "source": [
    "from sklearn.impute import SimpleImputer\n",
    "imputer = SimpleImputer(missing_values=np.nan, strategy='mean') #imputer in nasıl çalışacapıı ayarlıyoruz\n",
    "imputer.fit(X[:,1:3]) #imputeri uyguluyoruz\n",
    "X[:,1:3] = imputer.transform(X[:,1:3]) # transform ile uyguladığımız fit i dönüştürüyoruz ve uyguladığımız kısıma atıyoruz\n"
   ]
  },
  {
   "cell_type": "code",
   "execution_count": 10,
   "id": "ccab5c7e",
   "metadata": {},
   "outputs": [
    {
     "name": "stdout",
     "output_type": "stream",
     "text": [
      "[['France' 44.0 72000.0]\n",
      " ['Spain' 27.0 48000.0]\n",
      " ['Germany' 30.0 54000.0]\n",
      " ['Spain' 38.0 61000.0]\n",
      " ['Germany' 40.0 63777.77777777778]\n",
      " ['France' 35.0 58000.0]\n",
      " ['Spain' 38.77777777777778 52000.0]\n",
      " ['France' 48.0 79000.0]\n",
      " ['Germany' 50.0 83000.0]\n",
      " ['France' 37.0 67000.0]]\n"
     ]
    }
   ],
   "source": [
    "print(X)"
   ]
  },
  {
   "cell_type": "markdown",
   "id": "e8f2d240",
   "metadata": {},
   "source": [
    "BAĞIMSIZ DEĞİŞKENLERİMİZDEKİ KATEGORİK(SINIFSAL/SAYISAL OLMAYAN) VERİLERİ ENCODE ETME YANİ SAYISAL VERİYE ÇEVİRME ÇÜNKİ ALGORİTMAMIZ SAYISAL VERİDEN ANLIYCAK"
   ]
  },
  {
   "cell_type": "code",
   "execution_count": 19,
   "id": "f90e6b83",
   "metadata": {},
   "outputs": [],
   "source": [
    "from sklearn.compose import ColumnTransformer\n",
    "from sklearn.preprocessing import OneHotEncoder\n",
    "ct = ColumnTransformer(transformers=[('encoder',OneHotEncoder(),[0])],remainder='passthrough') #OneHotEncoder binary gibi çeviriyor\n",
    "#Encoderimiz OneHotEncoder, encode edilecek kolon indexi 0 yani ülke isimleri, passtrough iste geri kalan kolonların dpor olmasını yani silinmesini engelliyor\n",
    "X = np.array(ct.fit_transform(X)) #burada ct olan veriyi fit ve transform ediyoruz."
   ]
  },
  {
   "cell_type": "code",
   "execution_count": 13,
   "id": "bcc093bf",
   "metadata": {},
   "outputs": [
    {
     "name": "stdout",
     "output_type": "stream",
     "text": [
      "[[1.0 0.0 0.0 44.0 72000.0]\n",
      " [0.0 0.0 1.0 27.0 48000.0]\n",
      " [0.0 1.0 0.0 30.0 54000.0]\n",
      " [0.0 0.0 1.0 38.0 61000.0]\n",
      " [0.0 1.0 0.0 40.0 63777.77777777778]\n",
      " [1.0 0.0 0.0 35.0 58000.0]\n",
      " [0.0 0.0 1.0 38.77777777777778 52000.0]\n",
      " [1.0 0.0 0.0 48.0 79000.0]\n",
      " [0.0 1.0 0.0 50.0 83000.0]\n",
      " [1.0 0.0 0.0 37.0 67000.0]]\n"
     ]
    }
   ],
   "source": [
    "print(X)"
   ]
  },
  {
   "cell_type": "markdown",
   "id": "157f6d89",
   "metadata": {},
   "source": [
    "BAĞIMLI DEĞİŞKENLERİMİZDEKİ KATEGORİK(SINIFSAL/SAYISAL OLMAYAN) VERİLERİ ENCODE ETME YANİ SAYISAL VERİYE ÇEVİRME ÇÜNKİ ALGORİTMAMIZ SAYISAL VERİDEN ANLIYCAK"
   ]
  },
  {
   "cell_type": "code",
   "execution_count": 17,
   "id": "10120ff4",
   "metadata": {},
   "outputs": [],
   "source": [
    "from sklearn.preprocessing import LabelEncoder\n",
    "le = LabelEncoder() # yes no gibi verileri 1 ve 0 olarak çeviriyor.\n",
    "y = le.fit_transform(y)"
   ]
  },
  {
   "cell_type": "code",
   "execution_count": 18,
   "id": "c382f1b3",
   "metadata": {},
   "outputs": [
    {
     "name": "stdout",
     "output_type": "stream",
     "text": [
      "[0 1 0 0 1 1 0 1 0 1]\n"
     ]
    }
   ],
   "source": [
    "print(y)"
   ]
  },
  {
   "cell_type": "markdown",
   "id": "6ba4742f",
   "metadata": {},
   "source": [
    "ŞİMDİ VERİSETİMİZİ EĞİTİM VE TEST İÇİN İKİYE AYIRACAĞIZ"
   ]
  },
  {
   "cell_type": "code",
   "execution_count": 36,
   "id": "996379fc",
   "metadata": {},
   "outputs": [],
   "source": [
    "from sklearn.model_selection import train_test_split\n",
    "X_train,X_test,y_train,y_test=train_test_split(X,y,test_size=0.2,random_state=1)\n",
    "#soldaki değişkenlerin her biri kendi verilerini almoş oluyor\n",
    "#fonskiyonun içindeki ilk iki parametre arrayler x ve y miz, test_size bunun %20 sini test için ayır kalan %80 ini eğitim/train için ayır demiş oluyoruz\n",
    "#random_state verileri her defasında karıştır veya karıştırma, eğer int bir değer verirsek tekrar tekrar çalıştırdığımızda karıştırmaz."
   ]
  },
  {
   "cell_type": "code",
   "execution_count": 37,
   "id": "90ab48a0",
   "metadata": {},
   "outputs": [
    {
     "name": "stdout",
     "output_type": "stream",
     "text": [
      "[[0.0 1.0 0.0 1.0 0.0 0.0 1.0 38.77777777777778 52000.0]\n",
      " [0.0 1.0 0.0 1.0 0.0 1.0 0.0 40.0 63777.77777777778]\n",
      " [1.0 0.0 1.0 0.0 1.0 0.0 0.0 44.0 72000.0]\n",
      " [0.0 1.0 0.0 1.0 0.0 0.0 1.0 38.0 61000.0]\n",
      " [0.0 1.0 0.0 1.0 0.0 0.0 1.0 27.0 48000.0]\n",
      " [1.0 0.0 1.0 0.0 1.0 0.0 0.0 48.0 79000.0]\n",
      " [0.0 1.0 0.0 1.0 0.0 1.0 0.0 50.0 83000.0]\n",
      " [1.0 0.0 1.0 0.0 1.0 0.0 0.0 35.0 58000.0]]\n"
     ]
    }
   ],
   "source": [
    "print(X_train)"
   ]
  },
  {
   "cell_type": "code",
   "execution_count": 25,
   "id": "850b570c",
   "metadata": {},
   "outputs": [
    {
     "name": "stdout",
     "output_type": "stream",
     "text": [
      "[[0.0 1.0 0.0 1.0 0.0 1.0 0.0 30.0 54000.0]\n",
      " [1.0 0.0 1.0 0.0 1.0 0.0 0.0 37.0 67000.0]]\n"
     ]
    }
   ],
   "source": [
    "print(X_test)"
   ]
  },
  {
   "cell_type": "code",
   "execution_count": 26,
   "id": "7e088ecc",
   "metadata": {},
   "outputs": [
    {
     "name": "stdout",
     "output_type": "stream",
     "text": [
      "[0 1 0 0 1 1 0 1]\n"
     ]
    }
   ],
   "source": [
    "print(y_train)"
   ]
  },
  {
   "cell_type": "code",
   "execution_count": 27,
   "id": "eb4ed623",
   "metadata": {},
   "outputs": [
    {
     "name": "stdout",
     "output_type": "stream",
     "text": [
      "[0 1]\n"
     ]
    }
   ],
   "source": [
    "print(y_test)"
   ]
  },
  {
   "cell_type": "markdown",
   "id": "2ab83072",
   "metadata": {},
   "source": [
    "ÖZNİTELİK ÖLÇEKLEME / FEATURE SCALING \n",
    "bazı algoritamalar birbirinden çok uzak farklı verileri istemiyor\n",
    "yani verileri belli bir aralığa sıkıştırmamızı istiyor mesela 0-1 arasında sayılar istiyor\n",
    "bir anlamda standartlaştırmış gibi oluyor\n",
    "burada verilerimizin değeri değişmiyor çünkü bunu oranlayıp sıkıştırıyor yani scale ediyor."
   ]
  },
  {
   "cell_type": "code",
   "execution_count": 44,
   "id": "dbaeb96e",
   "metadata": {},
   "outputs": [],
   "source": [
    "from sklearn.preprocessing import StandardScaler\n",
    "sc = StandardScaler()\n",
    "X_train[:, 7:] = sc.fit_transform(X_train[:, 7:]) # ilk 3 kolon zaten 1 ve sıfırlardan oluşuyor onları scale etmemize gerek yok\n",
    "X_test[:, 7:] = sc.transform(X_test[:, 7:])   # o nedenle sadece scale edilmesi  gereken verileri scale ediyoruz.\n"
   ]
  },
  {
   "cell_type": "code",
   "execution_count": 45,
   "id": "96bfa25e",
   "metadata": {},
   "outputs": [
    {
     "name": "stdout",
     "output_type": "stream",
     "text": [
      "[[0.0 1.0 0.0 1.0 0.0 0.0 1.2909944487358056 -0.19159184384578554\n",
      "  -1.0781259408412427]\n",
      " [0.0 1.0 0.0 1.0 0.0 1.0 -0.7745966692414834 -0.014117293757057846\n",
      "  -0.07013167641635404]\n",
      " [1.0 0.0 1.0 0.0 1.0 0.0 -0.7745966692414834 0.5667085065333239\n",
      "  0.6335624327104546]\n",
      " [0.0 1.0 0.0 1.0 0.0 0.0 1.2909944487358056 -0.3045301939022487\n",
      "  -0.307866172742979]\n",
      " [0.0 1.0 0.0 1.0 0.0 0.0 1.2909944487358056 -1.901801144700799\n",
      "  -1.4204636155515822]\n",
      " [1.0 0.0 1.0 0.0 1.0 0.0 -0.7745966692414834 1.1475343068237056\n",
      "  1.2326533634535488]\n",
      " [0.0 1.0 0.0 1.0 0.0 1.0 -0.7745966692414834 1.4379472069688966\n",
      "  1.5749910381638883]\n",
      " [1.0 0.0 1.0 0.0 1.0 0.0 -0.7745966692414834 -0.7401495441200352\n",
      "  -0.5646194287757336]]\n"
     ]
    }
   ],
   "source": [
    "print(X_train)"
   ]
  }
 ],
 "metadata": {
  "kernelspec": {
   "display_name": "Python 3 (ipykernel)",
   "language": "python",
   "name": "python3"
  },
  "language_info": {
   "codemirror_mode": {
    "name": "ipython",
    "version": 3
   },
   "file_extension": ".py",
   "mimetype": "text/x-python",
   "name": "python",
   "nbconvert_exporter": "python",
   "pygments_lexer": "ipython3",
   "version": "3.9.7"
  }
 },
 "nbformat": 4,
 "nbformat_minor": 5
}
